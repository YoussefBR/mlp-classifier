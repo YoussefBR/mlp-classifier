{
 "cells": [
  {
   "cell_type": "markdown",
   "metadata": {},
   "source": [
    "# Homework-2: MLP for MNIST Classification\n",
    "\n",
    "### In this homework, you need to\n",
    "- #### implement SGD optimizer (`./optimizer.py`)\n",
    "- #### implement forward and backward for FCLayer (`layers/fc_layer.py`)\n",
    "- #### implement forward and backward for SigmoidLayer (`layers/sigmoid_layer.py`)\n",
    "- #### implement forward and backward for ReLULayer (`layers/relu_layer.py`)\n",
    "- #### implement EuclideanLossLayer (`criterion/euclidean_loss.py`)\n",
    "- #### implement SoftmaxCrossEntropyLossLayer (`criterion/softmax_cross_entropy.py`)"
   ]
  },
  {
   "cell_type": "code",
   "execution_count": 2,
   "metadata": {},
   "outputs": [],
   "source": [
    "import numpy as np\n",
    "import matplotlib.pyplot as plt\n",
    "%matplotlib inline\n",
    "import tensorflow.compat.v1 as tf\n",
    "tf.disable_eager_execution()\n",
    "\n",
    "from network import Network\n",
    "from solver import train, test\n",
    "from plot import plot_loss_and_acc"
   ]
  },
  {
   "cell_type": "markdown",
   "metadata": {},
   "source": [
    "## Load MNIST Dataset\n",
    "We use tensorflow tools to load dataset for convenience."
   ]
  },
  {
   "cell_type": "code",
   "execution_count": 3,
   "metadata": {},
   "outputs": [],
   "source": [
    "(x_train, y_train), (x_test, y_test) = tf.keras.datasets.mnist.load_data()"
   ]
  },
  {
   "cell_type": "code",
   "execution_count": 4,
   "metadata": {},
   "outputs": [],
   "source": [
    "def decode_image(image):\n",
    "    # Normalize from [0, 255.] to [0., 1.0], and then subtract by the mean value\n",
    "    image = tf.cast(image, tf.float32)\n",
    "    image = tf.reshape(image, [784])\n",
    "    image = image / 255.0\n",
    "    image = image - tf.reduce_mean(image)\n",
    "    return image\n",
    "\n",
    "def decode_label(label):\n",
    "    # Encode label with one-hot encoding\n",
    "    return tf.one_hot(label, depth=10)"
   ]
  },
  {
   "cell_type": "code",
   "execution_count": 5,
   "metadata": {},
   "outputs": [],
   "source": [
    "# Data Preprocessing\n",
    "x_train = tf.data.Dataset.from_tensor_slices(x_train).map(decode_image)\n",
    "y_train = tf.data.Dataset.from_tensor_slices(y_train).map(decode_label)\n",
    "data_train = tf.data.Dataset.zip((x_train, y_train))\n",
    "\n",
    "x_test = tf.data.Dataset.from_tensor_slices(x_test).map(decode_image)\n",
    "y_test = tf.data.Dataset.from_tensor_slices(y_test).map(decode_label)\n",
    "data_test = tf.data.Dataset.zip((x_test, y_test))"
   ]
  },
  {
   "cell_type": "markdown",
   "metadata": {},
   "source": [
    "## Set Hyerparameters\n",
    "You can modify hyerparameters by yourself."
   ]
  },
  {
   "cell_type": "code",
   "execution_count": 6,
   "metadata": {},
   "outputs": [],
   "source": [
    "batch_size = 100\n",
    "max_epoch = 20\n",
    "init_std = 0.01\n",
    "\n",
    "learning_rate_SGD = 0.001\n",
    "weight_decay = 0.1\n",
    "\n",
    "disp_freq = 50"
   ]
  },
  {
   "cell_type": "markdown",
   "metadata": {},
   "source": [
    "## 1. MLP with Euclidean Loss\n",
    "In part-1, you need to train a MLP with **Euclidean Loss**.  \n",
    "**Sigmoid Activation Function** and **ReLU Activation Function** will be used respectively.\n",
    "### TODO\n",
    "Before executing the following code, you should complete **./optimizer.py** and **criterion/euclidean_loss.py**."
   ]
  },
  {
   "cell_type": "code",
   "execution_count": 7,
   "metadata": {},
   "outputs": [],
   "source": [
    "from criterion import EuclideanLossLayer\n",
    "from optimizer import SGD\n",
    "\n",
    "criterion = EuclideanLossLayer()\n",
    "\n",
    "sgd = SGD(learning_rate_SGD, weight_decay)"
   ]
  },
  {
   "cell_type": "markdown",
   "metadata": {},
   "source": [
    "## 1.1 MLP with Euclidean Loss and Sigmoid Activation Function\n",
    "Build and train a MLP contraining one hidden layer with 128 units using Sigmoid activation function and Euclidean loss function.\n",
    "\n",
    "### TODO\n",
    "Before executing the following code, you should complete **layers/fc_layer.py** and **layers/sigmoid_layer.py**."
   ]
  },
  {
   "cell_type": "code",
   "execution_count": 8,
   "metadata": {},
   "outputs": [],
   "source": [
    "from layers import FCLayer, SigmoidLayer\n",
    "\n",
    "sigmoidMLP = Network()\n",
    "# Build MLP with FCLayer and SigmoidLayer\n",
    "# 128 is the number of hidden units, you can change by your own\n",
    "sigmoidMLP.add(FCLayer(784, 128))\n",
    "sigmoidMLP.add(SigmoidLayer())\n",
    "sigmoidMLP.add(FCLayer(128, 10))"
   ]
  },
  {
   "cell_type": "code",
   "execution_count": 9,
   "metadata": {
    "scrolled": true
   },
   "outputs": [
    {
     "name": "stdout",
     "output_type": "stream",
     "text": [
      "WARNING:tensorflow:From /Users/youssefbr/Downloads/homework-2/homework2-mlp/solver.py:15: DatasetV1.make_one_shot_iterator (from tensorflow.python.data.ops.dataset_ops) is deprecated and will be removed in a future version.\n",
      "Instructions for updating:\n",
      "This is a deprecated API that should only be used in TF 1 graph mode and legacy TF 2 graph mode available through `tf.compat.v1`. In all other situations -- namely, eager mode and inside `tf.function` -- you can consume dataset elements using `for elem in dataset: ...` or by explicitly creating iterator via `iterator = iter(dataset)` and fetching its elements via `values = next(iterator)`. Furthermore, this API is not available in TF 2. During the transition from TF 1 to TF 2 you can use `tf.compat.v1.data.make_one_shot_iterator(dataset)` to create a TF 1 graph mode style iterator for a dataset created through TF 2 APIs. Note that this should be a transient state of your code base as there are in general no guarantees about the interoperability of TF 1 and TF 2 code.\n"
     ]
    },
    {
     "name": "stderr",
     "output_type": "stream",
     "text": [
      "2022-08-07 17:36:08.275838: W tensorflow/core/platform/profile_utils/cpu_utils.cc:128] Failed to get CPU frequency: 0 Hz\n"
     ]
    },
    {
     "name": "stdout",
     "output_type": "stream",
     "text": [
      "Epoch [0][20]\t Batch [0][550]\t Training Loss 1.5899\t Accuracy 0.1200\n",
      "Epoch [0][20]\t Batch [50][550]\t Training Loss 1.5299\t Accuracy 0.1208\n",
      "Epoch [0][20]\t Batch [100][550]\t Training Loss 1.5214\t Accuracy 0.1211\n",
      "Epoch [0][20]\t Batch [150][550]\t Training Loss 1.5262\t Accuracy 0.1202\n",
      "Epoch [0][20]\t Batch [200][550]\t Training Loss 1.5207\t Accuracy 0.1212\n",
      "Epoch [0][20]\t Batch [250][550]\t Training Loss 1.5223\t Accuracy 0.1210\n",
      "Epoch [0][20]\t Batch [300][550]\t Training Loss 1.5208\t Accuracy 0.1222\n",
      "Epoch [0][20]\t Batch [350][550]\t Training Loss 1.5184\t Accuracy 0.1218\n",
      "Epoch [0][20]\t Batch [400][550]\t Training Loss 1.5178\t Accuracy 0.1216\n",
      "Epoch [0][20]\t Batch [450][550]\t Training Loss 1.5173\t Accuracy 0.1222\n",
      "Epoch [0][20]\t Batch [500][550]\t Training Loss 1.5182\t Accuracy 0.1217\n",
      "\n",
      "Epoch [0]\t Average training loss 1.5172\t Average training accuracy 0.1220\n",
      "Epoch [0]\t Average validation loss 1.5089\t Average validation accuracy 0.1190\n",
      "\n",
      "Epoch [1][20]\t Batch [0][550]\t Training Loss 1.5899\t Accuracy 0.1200\n",
      "Epoch [1][20]\t Batch [50][550]\t Training Loss 1.5299\t Accuracy 0.1208\n",
      "Epoch [1][20]\t Batch [100][550]\t Training Loss 1.5214\t Accuracy 0.1211\n",
      "Epoch [1][20]\t Batch [150][550]\t Training Loss 1.5262\t Accuracy 0.1202\n",
      "Epoch [1][20]\t Batch [200][550]\t Training Loss 1.5207\t Accuracy 0.1212\n",
      "Epoch [1][20]\t Batch [250][550]\t Training Loss 1.5223\t Accuracy 0.1210\n",
      "Epoch [1][20]\t Batch [300][550]\t Training Loss 1.5208\t Accuracy 0.1222\n",
      "Epoch [1][20]\t Batch [350][550]\t Training Loss 1.5184\t Accuracy 0.1218\n",
      "Epoch [1][20]\t Batch [400][550]\t Training Loss 1.5178\t Accuracy 0.1216\n",
      "Epoch [1][20]\t Batch [450][550]\t Training Loss 1.5173\t Accuracy 0.1222\n",
      "Epoch [1][20]\t Batch [500][550]\t Training Loss 1.5182\t Accuracy 0.1217\n",
      "\n",
      "Epoch [1]\t Average training loss 1.5172\t Average training accuracy 0.1220\n",
      "Epoch [1]\t Average validation loss 1.5089\t Average validation accuracy 0.1190\n",
      "\n",
      "Epoch [2][20]\t Batch [0][550]\t Training Loss 1.5899\t Accuracy 0.1200\n",
      "Epoch [2][20]\t Batch [50][550]\t Training Loss 1.5299\t Accuracy 0.1208\n",
      "Epoch [2][20]\t Batch [100][550]\t Training Loss 1.5214\t Accuracy 0.1211\n",
      "Epoch [2][20]\t Batch [150][550]\t Training Loss 1.5262\t Accuracy 0.1202\n",
      "Epoch [2][20]\t Batch [200][550]\t Training Loss 1.5207\t Accuracy 0.1212\n",
      "Epoch [2][20]\t Batch [250][550]\t Training Loss 1.5223\t Accuracy 0.1210\n",
      "Epoch [2][20]\t Batch [300][550]\t Training Loss 1.5208\t Accuracy 0.1222\n",
      "Epoch [2][20]\t Batch [350][550]\t Training Loss 1.5184\t Accuracy 0.1218\n",
      "Epoch [2][20]\t Batch [400][550]\t Training Loss 1.5178\t Accuracy 0.1216\n",
      "Epoch [2][20]\t Batch [450][550]\t Training Loss 1.5173\t Accuracy 0.1222\n",
      "Epoch [2][20]\t Batch [500][550]\t Training Loss 1.5182\t Accuracy 0.1217\n",
      "\n",
      "Epoch [2]\t Average training loss 1.5172\t Average training accuracy 0.1220\n",
      "Epoch [2]\t Average validation loss 1.5089\t Average validation accuracy 0.1190\n",
      "\n",
      "Epoch [3][20]\t Batch [0][550]\t Training Loss 1.5899\t Accuracy 0.1200\n",
      "Epoch [3][20]\t Batch [50][550]\t Training Loss 1.5299\t Accuracy 0.1208\n",
      "Epoch [3][20]\t Batch [100][550]\t Training Loss 1.5214\t Accuracy 0.1211\n",
      "Epoch [3][20]\t Batch [150][550]\t Training Loss 1.5262\t Accuracy 0.1202\n",
      "Epoch [3][20]\t Batch [200][550]\t Training Loss 1.5207\t Accuracy 0.1212\n",
      "Epoch [3][20]\t Batch [250][550]\t Training Loss 1.5223\t Accuracy 0.1210\n",
      "Epoch [3][20]\t Batch [300][550]\t Training Loss 1.5208\t Accuracy 0.1222\n",
      "Epoch [3][20]\t Batch [350][550]\t Training Loss 1.5184\t Accuracy 0.1218\n",
      "Epoch [3][20]\t Batch [400][550]\t Training Loss 1.5178\t Accuracy 0.1216\n",
      "Epoch [3][20]\t Batch [450][550]\t Training Loss 1.5173\t Accuracy 0.1222\n",
      "Epoch [3][20]\t Batch [500][550]\t Training Loss 1.5182\t Accuracy 0.1217\n",
      "\n",
      "Epoch [3]\t Average training loss 1.5172\t Average training accuracy 0.1220\n",
      "Epoch [3]\t Average validation loss 1.5089\t Average validation accuracy 0.1190\n",
      "\n",
      "Epoch [4][20]\t Batch [0][550]\t Training Loss 1.5899\t Accuracy 0.1200\n",
      "Epoch [4][20]\t Batch [50][550]\t Training Loss 1.5299\t Accuracy 0.1208\n",
      "Epoch [4][20]\t Batch [100][550]\t Training Loss 1.5214\t Accuracy 0.1211\n",
      "Epoch [4][20]\t Batch [150][550]\t Training Loss 1.5262\t Accuracy 0.1202\n",
      "Epoch [4][20]\t Batch [200][550]\t Training Loss 1.5207\t Accuracy 0.1212\n",
      "Epoch [4][20]\t Batch [250][550]\t Training Loss 1.5223\t Accuracy 0.1210\n",
      "Epoch [4][20]\t Batch [300][550]\t Training Loss 1.5208\t Accuracy 0.1222\n",
      "Epoch [4][20]\t Batch [350][550]\t Training Loss 1.5184\t Accuracy 0.1218\n",
      "Epoch [4][20]\t Batch [400][550]\t Training Loss 1.5178\t Accuracy 0.1216\n",
      "Epoch [4][20]\t Batch [450][550]\t Training Loss 1.5173\t Accuracy 0.1222\n",
      "Epoch [4][20]\t Batch [500][550]\t Training Loss 1.5182\t Accuracy 0.1217\n",
      "\n",
      "Epoch [4]\t Average training loss 1.5172\t Average training accuracy 0.1220\n",
      "Epoch [4]\t Average validation loss 1.5089\t Average validation accuracy 0.1190\n",
      "\n",
      "Epoch [5][20]\t Batch [0][550]\t Training Loss 1.5899\t Accuracy 0.1200\n",
      "Epoch [5][20]\t Batch [50][550]\t Training Loss 1.5299\t Accuracy 0.1208\n",
      "Epoch [5][20]\t Batch [100][550]\t Training Loss 1.5214\t Accuracy 0.1211\n",
      "Epoch [5][20]\t Batch [150][550]\t Training Loss 1.5262\t Accuracy 0.1202\n",
      "Epoch [5][20]\t Batch [200][550]\t Training Loss 1.5207\t Accuracy 0.1212\n",
      "Epoch [5][20]\t Batch [250][550]\t Training Loss 1.5223\t Accuracy 0.1210\n",
      "Epoch [5][20]\t Batch [300][550]\t Training Loss 1.5208\t Accuracy 0.1222\n",
      "Epoch [5][20]\t Batch [350][550]\t Training Loss 1.5184\t Accuracy 0.1218\n",
      "Epoch [5][20]\t Batch [400][550]\t Training Loss 1.5178\t Accuracy 0.1216\n",
      "Epoch [5][20]\t Batch [450][550]\t Training Loss 1.5173\t Accuracy 0.1222\n",
      "Epoch [5][20]\t Batch [500][550]\t Training Loss 1.5182\t Accuracy 0.1217\n",
      "\n",
      "Epoch [5]\t Average training loss 1.5172\t Average training accuracy 0.1220\n",
      "Epoch [5]\t Average validation loss 1.5089\t Average validation accuracy 0.1190\n",
      "\n",
      "Epoch [6][20]\t Batch [0][550]\t Training Loss 1.5899\t Accuracy 0.1200\n",
      "Epoch [6][20]\t Batch [50][550]\t Training Loss 1.5299\t Accuracy 0.1208\n",
      "Epoch [6][20]\t Batch [100][550]\t Training Loss 1.5214\t Accuracy 0.1211\n",
      "Epoch [6][20]\t Batch [150][550]\t Training Loss 1.5262\t Accuracy 0.1202\n",
      "Epoch [6][20]\t Batch [200][550]\t Training Loss 1.5207\t Accuracy 0.1212\n",
      "Epoch [6][20]\t Batch [250][550]\t Training Loss 1.5223\t Accuracy 0.1210\n",
      "Epoch [6][20]\t Batch [300][550]\t Training Loss 1.5208\t Accuracy 0.1222\n",
      "Epoch [6][20]\t Batch [350][550]\t Training Loss 1.5184\t Accuracy 0.1218\n",
      "Epoch [6][20]\t Batch [400][550]\t Training Loss 1.5178\t Accuracy 0.1216\n",
      "Epoch [6][20]\t Batch [450][550]\t Training Loss 1.5173\t Accuracy 0.1222\n",
      "Epoch [6][20]\t Batch [500][550]\t Training Loss 1.5182\t Accuracy 0.1217\n",
      "\n",
      "Epoch [6]\t Average training loss 1.5172\t Average training accuracy 0.1220\n",
      "Epoch [6]\t Average validation loss 1.5089\t Average validation accuracy 0.1190\n",
      "\n",
      "Epoch [7][20]\t Batch [0][550]\t Training Loss 1.5899\t Accuracy 0.1200\n",
      "Epoch [7][20]\t Batch [50][550]\t Training Loss 1.5299\t Accuracy 0.1208\n",
      "Epoch [7][20]\t Batch [100][550]\t Training Loss 1.5214\t Accuracy 0.1211\n",
      "Epoch [7][20]\t Batch [150][550]\t Training Loss 1.5262\t Accuracy 0.1202\n",
      "Epoch [7][20]\t Batch [200][550]\t Training Loss 1.5207\t Accuracy 0.1212\n",
      "Epoch [7][20]\t Batch [250][550]\t Training Loss 1.5223\t Accuracy 0.1210\n",
      "Epoch [7][20]\t Batch [300][550]\t Training Loss 1.5208\t Accuracy 0.1222\n",
      "Epoch [7][20]\t Batch [350][550]\t Training Loss 1.5184\t Accuracy 0.1218\n",
      "Epoch [7][20]\t Batch [400][550]\t Training Loss 1.5178\t Accuracy 0.1216\n",
      "Epoch [7][20]\t Batch [450][550]\t Training Loss 1.5173\t Accuracy 0.1222\n",
      "Epoch [7][20]\t Batch [500][550]\t Training Loss 1.5182\t Accuracy 0.1217\n",
      "\n",
      "Epoch [7]\t Average training loss 1.5172\t Average training accuracy 0.1220\n",
      "Epoch [7]\t Average validation loss 1.5089\t Average validation accuracy 0.1190\n",
      "\n",
      "Epoch [8][20]\t Batch [0][550]\t Training Loss 1.5899\t Accuracy 0.1200\n",
      "Epoch [8][20]\t Batch [50][550]\t Training Loss 1.5299\t Accuracy 0.1208\n",
      "Epoch [8][20]\t Batch [100][550]\t Training Loss 1.5214\t Accuracy 0.1211\n",
      "Epoch [8][20]\t Batch [150][550]\t Training Loss 1.5262\t Accuracy 0.1202\n",
      "Epoch [8][20]\t Batch [200][550]\t Training Loss 1.5207\t Accuracy 0.1212\n",
      "Epoch [8][20]\t Batch [250][550]\t Training Loss 1.5223\t Accuracy 0.1210\n",
      "Epoch [8][20]\t Batch [300][550]\t Training Loss 1.5208\t Accuracy 0.1222\n",
      "Epoch [8][20]\t Batch [350][550]\t Training Loss 1.5184\t Accuracy 0.1218\n",
      "Epoch [8][20]\t Batch [400][550]\t Training Loss 1.5178\t Accuracy 0.1216\n",
      "Epoch [8][20]\t Batch [450][550]\t Training Loss 1.5173\t Accuracy 0.1222\n",
      "Epoch [8][20]\t Batch [500][550]\t Training Loss 1.5182\t Accuracy 0.1217\n",
      "\n",
      "Epoch [8]\t Average training loss 1.5172\t Average training accuracy 0.1220\n",
      "Epoch [8]\t Average validation loss 1.5089\t Average validation accuracy 0.1190\n",
      "\n",
      "Epoch [9][20]\t Batch [0][550]\t Training Loss 1.5899\t Accuracy 0.1200\n",
      "Epoch [9][20]\t Batch [50][550]\t Training Loss 1.5299\t Accuracy 0.1208\n",
      "Epoch [9][20]\t Batch [100][550]\t Training Loss 1.5214\t Accuracy 0.1211\n",
      "Epoch [9][20]\t Batch [150][550]\t Training Loss 1.5262\t Accuracy 0.1202\n",
      "Epoch [9][20]\t Batch [200][550]\t Training Loss 1.5207\t Accuracy 0.1212\n",
      "Epoch [9][20]\t Batch [250][550]\t Training Loss 1.5223\t Accuracy 0.1210\n",
      "Epoch [9][20]\t Batch [300][550]\t Training Loss 1.5208\t Accuracy 0.1222\n",
      "Epoch [9][20]\t Batch [350][550]\t Training Loss 1.5184\t Accuracy 0.1218\n",
      "Epoch [9][20]\t Batch [400][550]\t Training Loss 1.5178\t Accuracy 0.1216\n",
      "Epoch [9][20]\t Batch [450][550]\t Training Loss 1.5173\t Accuracy 0.1222\n",
      "Epoch [9][20]\t Batch [500][550]\t Training Loss 1.5182\t Accuracy 0.1217\n",
      "\n",
      "Epoch [9]\t Average training loss 1.5172\t Average training accuracy 0.1220\n",
      "Epoch [9]\t Average validation loss 1.5089\t Average validation accuracy 0.1190\n",
      "\n",
      "Epoch [10][20]\t Batch [0][550]\t Training Loss 1.5899\t Accuracy 0.1200\n",
      "Epoch [10][20]\t Batch [50][550]\t Training Loss 1.5299\t Accuracy 0.1208\n",
      "Epoch [10][20]\t Batch [100][550]\t Training Loss 1.5214\t Accuracy 0.1211\n",
      "Epoch [10][20]\t Batch [150][550]\t Training Loss 1.5262\t Accuracy 0.1202\n",
      "Epoch [10][20]\t Batch [200][550]\t Training Loss 1.5207\t Accuracy 0.1212\n",
      "Epoch [10][20]\t Batch [250][550]\t Training Loss 1.5223\t Accuracy 0.1210\n",
      "Epoch [10][20]\t Batch [300][550]\t Training Loss 1.5208\t Accuracy 0.1222\n",
      "Epoch [10][20]\t Batch [350][550]\t Training Loss 1.5184\t Accuracy 0.1218\n",
      "Epoch [10][20]\t Batch [400][550]\t Training Loss 1.5178\t Accuracy 0.1216\n",
      "Epoch [10][20]\t Batch [450][550]\t Training Loss 1.5173\t Accuracy 0.1222\n",
      "Epoch [10][20]\t Batch [500][550]\t Training Loss 1.5182\t Accuracy 0.1217\n",
      "\n",
      "Epoch [10]\t Average training loss 1.5172\t Average training accuracy 0.1220\n",
      "Epoch [10]\t Average validation loss 1.5089\t Average validation accuracy 0.1190\n",
      "\n",
      "Epoch [11][20]\t Batch [0][550]\t Training Loss 1.5899\t Accuracy 0.1200\n",
      "Epoch [11][20]\t Batch [50][550]\t Training Loss 1.5299\t Accuracy 0.1208\n",
      "Epoch [11][20]\t Batch [100][550]\t Training Loss 1.5214\t Accuracy 0.1211\n",
      "Epoch [11][20]\t Batch [150][550]\t Training Loss 1.5262\t Accuracy 0.1202\n",
      "Epoch [11][20]\t Batch [200][550]\t Training Loss 1.5207\t Accuracy 0.1212\n",
      "Epoch [11][20]\t Batch [250][550]\t Training Loss 1.5223\t Accuracy 0.1210\n",
      "Epoch [11][20]\t Batch [300][550]\t Training Loss 1.5208\t Accuracy 0.1222\n",
      "Epoch [11][20]\t Batch [350][550]\t Training Loss 1.5184\t Accuracy 0.1218\n",
      "Epoch [11][20]\t Batch [400][550]\t Training Loss 1.5178\t Accuracy 0.1216\n",
      "Epoch [11][20]\t Batch [450][550]\t Training Loss 1.5173\t Accuracy 0.1222\n",
      "Epoch [11][20]\t Batch [500][550]\t Training Loss 1.5182\t Accuracy 0.1217\n",
      "\n",
      "Epoch [11]\t Average training loss 1.5172\t Average training accuracy 0.1220\n",
      "Epoch [11]\t Average validation loss 1.5089\t Average validation accuracy 0.1190\n",
      "\n",
      "Epoch [12][20]\t Batch [0][550]\t Training Loss 1.5899\t Accuracy 0.1200\n",
      "Epoch [12][20]\t Batch [50][550]\t Training Loss 1.5299\t Accuracy 0.1208\n",
      "Epoch [12][20]\t Batch [100][550]\t Training Loss 1.5214\t Accuracy 0.1211\n",
      "Epoch [12][20]\t Batch [150][550]\t Training Loss 1.5262\t Accuracy 0.1202\n",
      "Epoch [12][20]\t Batch [200][550]\t Training Loss 1.5207\t Accuracy 0.1212\n",
      "Epoch [12][20]\t Batch [250][550]\t Training Loss 1.5223\t Accuracy 0.1210\n",
      "Epoch [12][20]\t Batch [300][550]\t Training Loss 1.5208\t Accuracy 0.1222\n",
      "Epoch [12][20]\t Batch [350][550]\t Training Loss 1.5184\t Accuracy 0.1218\n",
      "Epoch [12][20]\t Batch [400][550]\t Training Loss 1.5178\t Accuracy 0.1216\n",
      "Epoch [12][20]\t Batch [450][550]\t Training Loss 1.5173\t Accuracy 0.1222\n",
      "Epoch [12][20]\t Batch [500][550]\t Training Loss 1.5182\t Accuracy 0.1217\n",
      "\n",
      "Epoch [12]\t Average training loss 1.5172\t Average training accuracy 0.1220\n",
      "Epoch [12]\t Average validation loss 1.5089\t Average validation accuracy 0.1190\n",
      "\n",
      "Epoch [13][20]\t Batch [0][550]\t Training Loss 1.5899\t Accuracy 0.1200\n",
      "Epoch [13][20]\t Batch [50][550]\t Training Loss 1.5299\t Accuracy 0.1208\n",
      "Epoch [13][20]\t Batch [100][550]\t Training Loss 1.5214\t Accuracy 0.1211\n",
      "Epoch [13][20]\t Batch [150][550]\t Training Loss 1.5262\t Accuracy 0.1202\n",
      "Epoch [13][20]\t Batch [200][550]\t Training Loss 1.5207\t Accuracy 0.1212\n",
      "Epoch [13][20]\t Batch [250][550]\t Training Loss 1.5223\t Accuracy 0.1210\n",
      "Epoch [13][20]\t Batch [300][550]\t Training Loss 1.5208\t Accuracy 0.1222\n",
      "Epoch [13][20]\t Batch [350][550]\t Training Loss 1.5184\t Accuracy 0.1218\n",
      "Epoch [13][20]\t Batch [400][550]\t Training Loss 1.5178\t Accuracy 0.1216\n",
      "Epoch [13][20]\t Batch [450][550]\t Training Loss 1.5173\t Accuracy 0.1222\n",
      "Epoch [13][20]\t Batch [500][550]\t Training Loss 1.5182\t Accuracy 0.1217\n",
      "\n",
      "Epoch [13]\t Average training loss 1.5172\t Average training accuracy 0.1220\n",
      "Epoch [13]\t Average validation loss 1.5089\t Average validation accuracy 0.1190\n",
      "\n",
      "Epoch [14][20]\t Batch [0][550]\t Training Loss 1.5899\t Accuracy 0.1200\n",
      "Epoch [14][20]\t Batch [50][550]\t Training Loss 1.5299\t Accuracy 0.1208\n",
      "Epoch [14][20]\t Batch [100][550]\t Training Loss 1.5214\t Accuracy 0.1211\n",
      "Epoch [14][20]\t Batch [150][550]\t Training Loss 1.5262\t Accuracy 0.1202\n",
      "Epoch [14][20]\t Batch [200][550]\t Training Loss 1.5207\t Accuracy 0.1212\n",
      "Epoch [14][20]\t Batch [250][550]\t Training Loss 1.5223\t Accuracy 0.1210\n",
      "Epoch [14][20]\t Batch [300][550]\t Training Loss 1.5208\t Accuracy 0.1222\n",
      "Epoch [14][20]\t Batch [350][550]\t Training Loss 1.5184\t Accuracy 0.1218\n",
      "Epoch [14][20]\t Batch [400][550]\t Training Loss 1.5178\t Accuracy 0.1216\n",
      "Epoch [14][20]\t Batch [450][550]\t Training Loss 1.5173\t Accuracy 0.1222\n",
      "Epoch [14][20]\t Batch [500][550]\t Training Loss 1.5182\t Accuracy 0.1217\n",
      "\n",
      "Epoch [14]\t Average training loss 1.5172\t Average training accuracy 0.1220\n",
      "Epoch [14]\t Average validation loss 1.5089\t Average validation accuracy 0.1190\n",
      "\n",
      "Epoch [15][20]\t Batch [0][550]\t Training Loss 1.5899\t Accuracy 0.1200\n",
      "Epoch [15][20]\t Batch [50][550]\t Training Loss 1.5299\t Accuracy 0.1208\n",
      "Epoch [15][20]\t Batch [100][550]\t Training Loss 1.5214\t Accuracy 0.1211\n",
      "Epoch [15][20]\t Batch [150][550]\t Training Loss 1.5262\t Accuracy 0.1202\n",
      "Epoch [15][20]\t Batch [200][550]\t Training Loss 1.5207\t Accuracy 0.1212\n",
      "Epoch [15][20]\t Batch [250][550]\t Training Loss 1.5223\t Accuracy 0.1210\n",
      "Epoch [15][20]\t Batch [300][550]\t Training Loss 1.5208\t Accuracy 0.1222\n",
      "Epoch [15][20]\t Batch [350][550]\t Training Loss 1.5184\t Accuracy 0.1218\n",
      "Epoch [15][20]\t Batch [400][550]\t Training Loss 1.5178\t Accuracy 0.1216\n",
      "Epoch [15][20]\t Batch [450][550]\t Training Loss 1.5173\t Accuracy 0.1222\n",
      "Epoch [15][20]\t Batch [500][550]\t Training Loss 1.5182\t Accuracy 0.1217\n",
      "\n",
      "Epoch [15]\t Average training loss 1.5172\t Average training accuracy 0.1220\n",
      "Epoch [15]\t Average validation loss 1.5089\t Average validation accuracy 0.1190\n",
      "\n",
      "Epoch [16][20]\t Batch [0][550]\t Training Loss 1.5899\t Accuracy 0.1200\n",
      "Epoch [16][20]\t Batch [50][550]\t Training Loss 1.5299\t Accuracy 0.1208\n",
      "Epoch [16][20]\t Batch [100][550]\t Training Loss 1.5214\t Accuracy 0.1211\n",
      "Epoch [16][20]\t Batch [150][550]\t Training Loss 1.5262\t Accuracy 0.1202\n",
      "Epoch [16][20]\t Batch [200][550]\t Training Loss 1.5207\t Accuracy 0.1212\n",
      "Epoch [16][20]\t Batch [250][550]\t Training Loss 1.5223\t Accuracy 0.1210\n",
      "Epoch [16][20]\t Batch [300][550]\t Training Loss 1.5208\t Accuracy 0.1222\n",
      "Epoch [16][20]\t Batch [350][550]\t Training Loss 1.5184\t Accuracy 0.1218\n",
      "Epoch [16][20]\t Batch [400][550]\t Training Loss 1.5178\t Accuracy 0.1216\n",
      "Epoch [16][20]\t Batch [450][550]\t Training Loss 1.5173\t Accuracy 0.1222\n",
      "Epoch [16][20]\t Batch [500][550]\t Training Loss 1.5182\t Accuracy 0.1217\n",
      "\n",
      "Epoch [16]\t Average training loss 1.5172\t Average training accuracy 0.1220\n",
      "Epoch [16]\t Average validation loss 1.5089\t Average validation accuracy 0.1190\n",
      "\n",
      "Epoch [17][20]\t Batch [0][550]\t Training Loss 1.5899\t Accuracy 0.1200\n",
      "Epoch [17][20]\t Batch [50][550]\t Training Loss 1.5299\t Accuracy 0.1208\n",
      "Epoch [17][20]\t Batch [100][550]\t Training Loss 1.5214\t Accuracy 0.1211\n",
      "Epoch [17][20]\t Batch [150][550]\t Training Loss 1.5262\t Accuracy 0.1202\n",
      "Epoch [17][20]\t Batch [200][550]\t Training Loss 1.5207\t Accuracy 0.1212\n",
      "Epoch [17][20]\t Batch [250][550]\t Training Loss 1.5223\t Accuracy 0.1210\n",
      "Epoch [17][20]\t Batch [300][550]\t Training Loss 1.5208\t Accuracy 0.1222\n",
      "Epoch [17][20]\t Batch [350][550]\t Training Loss 1.5184\t Accuracy 0.1218\n",
      "Epoch [17][20]\t Batch [400][550]\t Training Loss 1.5178\t Accuracy 0.1216\n",
      "Epoch [17][20]\t Batch [450][550]\t Training Loss 1.5173\t Accuracy 0.1222\n",
      "Epoch [17][20]\t Batch [500][550]\t Training Loss 1.5182\t Accuracy 0.1217\n",
      "\n",
      "Epoch [17]\t Average training loss 1.5172\t Average training accuracy 0.1220\n",
      "Epoch [17]\t Average validation loss 1.5089\t Average validation accuracy 0.1190\n",
      "\n",
      "Epoch [18][20]\t Batch [0][550]\t Training Loss 1.5899\t Accuracy 0.1200\n",
      "Epoch [18][20]\t Batch [50][550]\t Training Loss 1.5299\t Accuracy 0.1208\n",
      "Epoch [18][20]\t Batch [100][550]\t Training Loss 1.5214\t Accuracy 0.1211\n",
      "Epoch [18][20]\t Batch [150][550]\t Training Loss 1.5262\t Accuracy 0.1202\n",
      "Epoch [18][20]\t Batch [200][550]\t Training Loss 1.5207\t Accuracy 0.1212\n",
      "Epoch [18][20]\t Batch [250][550]\t Training Loss 1.5223\t Accuracy 0.1210\n",
      "Epoch [18][20]\t Batch [300][550]\t Training Loss 1.5208\t Accuracy 0.1222\n",
      "Epoch [18][20]\t Batch [350][550]\t Training Loss 1.5184\t Accuracy 0.1218\n",
      "Epoch [18][20]\t Batch [400][550]\t Training Loss 1.5178\t Accuracy 0.1216\n",
      "Epoch [18][20]\t Batch [450][550]\t Training Loss 1.5173\t Accuracy 0.1222\n",
      "Epoch [18][20]\t Batch [500][550]\t Training Loss 1.5182\t Accuracy 0.1217\n",
      "\n",
      "Epoch [18]\t Average training loss 1.5172\t Average training accuracy 0.1220\n",
      "Epoch [18]\t Average validation loss 1.5089\t Average validation accuracy 0.1190\n",
      "\n",
      "Epoch [19][20]\t Batch [0][550]\t Training Loss 1.5899\t Accuracy 0.1200\n",
      "Epoch [19][20]\t Batch [50][550]\t Training Loss 1.5299\t Accuracy 0.1208\n",
      "Epoch [19][20]\t Batch [100][550]\t Training Loss 1.5214\t Accuracy 0.1211\n",
      "Epoch [19][20]\t Batch [150][550]\t Training Loss 1.5262\t Accuracy 0.1202\n",
      "Epoch [19][20]\t Batch [200][550]\t Training Loss 1.5207\t Accuracy 0.1212\n",
      "Epoch [19][20]\t Batch [250][550]\t Training Loss 1.5223\t Accuracy 0.1210\n",
      "Epoch [19][20]\t Batch [300][550]\t Training Loss 1.5208\t Accuracy 0.1222\n",
      "Epoch [19][20]\t Batch [350][550]\t Training Loss 1.5184\t Accuracy 0.1218\n",
      "Epoch [19][20]\t Batch [400][550]\t Training Loss 1.5178\t Accuracy 0.1216\n",
      "Epoch [19][20]\t Batch [450][550]\t Training Loss 1.5173\t Accuracy 0.1222\n",
      "Epoch [19][20]\t Batch [500][550]\t Training Loss 1.5182\t Accuracy 0.1217\n",
      "\n",
      "Epoch [19]\t Average training loss 1.5172\t Average training accuracy 0.1220\n",
      "Epoch [19]\t Average validation loss 1.5089\t Average validation accuracy 0.1190\n",
      "\n"
     ]
    }
   ],
   "source": [
    "sigmoidMLP, sigmoid_loss, sigmoid_acc = train(sigmoidMLP, criterion, sgd, data_train, max_epoch, batch_size, disp_freq)"
   ]
  },
  {
   "cell_type": "code",
   "execution_count": 10,
   "metadata": {},
   "outputs": [
    {
     "name": "stdout",
     "output_type": "stream",
     "text": [
      "Testing...\n",
      "The test accuracy is 0.1184.\n",
      "\n"
     ]
    }
   ],
   "source": [
    "test(sigmoidMLP, criterion, data_test, batch_size, disp_freq)"
   ]
  },
  {
   "cell_type": "markdown",
   "metadata": {},
   "source": [
    "## 1.2 MLP with Euclidean Loss and ReLU Activation Function\n",
    "Build and train a MLP contraining one hidden layer with 128 units using ReLU activation function and Euclidean loss function.\n",
    "\n",
    "### TODO\n",
    "Before executing the following code, you should complete **layers/relu_layer.py**."
   ]
  },
  {
   "cell_type": "code",
   "execution_count": 11,
   "metadata": {},
   "outputs": [],
   "source": [
    "from layers import ReLULayer\n",
    "\n",
    "reluMLP = Network()\n",
    "# TODO build ReLUMLP with FCLayer and ReLULayer\n",
    "reluMLP.add(FCLayer(784, 128))\n",
    "reluMLP.add(ReLULayer())\n",
    "reluMLP.add(FCLayer(128, 10))"
   ]
  },
  {
   "cell_type": "code",
   "execution_count": 12,
   "metadata": {
    "scrolled": true
   },
   "outputs": [
    {
     "ename": "ValueError",
     "evalue": "The truth value of an array with more than one element is ambiguous. Use a.any() or a.all()",
     "output_type": "error",
     "traceback": [
      "\u001b[0;31m---------------------------------------------------------------------------\u001b[0m",
      "\u001b[0;31mValueError\u001b[0m                                Traceback (most recent call last)",
      "\u001b[1;32m/Users/youssefbr/Downloads/homework-2/homework2-mlp/homework2-mlp.ipynb Cell 17'\u001b[0m in \u001b[0;36m<cell line: 1>\u001b[0;34m()\u001b[0m\n\u001b[0;32m----> <a href='vscode-notebook-cell:/Users/youssefbr/Downloads/homework-2/homework2-mlp/homework2-mlp.ipynb#ch0000016?line=0'>1</a>\u001b[0m reluMLP, relu_loss, relu_acc \u001b[39m=\u001b[39m train(reluMLP, criterion, sgd, data_train, max_epoch, batch_size, disp_freq)\n",
      "File \u001b[0;32m~/Downloads/homework-2/homework2-mlp/solver.py:35\u001b[0m, in \u001b[0;36mtrain\u001b[0;34m(model, criterion, optimizer, dataset, max_epoch, batch_size, disp_freq)\u001b[0m\n\u001b[1;32m     33\u001b[0m \u001b[39m# Training process\u001b[39;00m\n\u001b[1;32m     34\u001b[0m \u001b[39mfor\u001b[39;00m epoch \u001b[39min\u001b[39;00m \u001b[39mrange\u001b[39m(max_epoch):\n\u001b[0;32m---> 35\u001b[0m \tbatch_train_loss, batch_train_acc \u001b[39m=\u001b[39m train_one_epoch(model, criterion, optimizer, train_get_next,\n\u001b[1;32m     36\u001b[0m \t                                                    max_epoch, batch_size, disp_freq, epoch, sess)\n\u001b[1;32m     37\u001b[0m \tbatch_val_loss, batch_val_acc \u001b[39m=\u001b[39m validate(model, criterion, valid_get_next, batch_size, sess)\n\u001b[1;32m     39\u001b[0m \tavg_train_acc\u001b[39m.\u001b[39mappend(np\u001b[39m.\u001b[39mmean(batch_train_acc))\n",
      "File \u001b[0;32m~/Downloads/homework-2/homework2-mlp/solver.py:71\u001b[0m, in \u001b[0;36mtrain_one_epoch\u001b[0;34m(model, criterion, optimizer, data_get_next, max_epoch, batch_size, disp_freq, epoch, sess)\u001b[0m\n\u001b[1;32m     69\u001b[0m \u001b[39m# Backward pass\u001b[39;00m\n\u001b[1;32m     70\u001b[0m delta \u001b[39m=\u001b[39m criterion\u001b[39m.\u001b[39mbackward()\n\u001b[0;32m---> 71\u001b[0m model\u001b[39m.\u001b[39;49mbackward(delta)\n\u001b[1;32m     73\u001b[0m \u001b[39m# Update weights, see optimize.py\u001b[39;00m\n\u001b[1;32m     74\u001b[0m optimizer\u001b[39m.\u001b[39mstep(model)\n",
      "File \u001b[0;32m~/Downloads/homework-2/homework2-mlp/network.py:21\u001b[0m, in \u001b[0;36mNetwork.backward\u001b[0;34m(self, delta)\u001b[0m\n\u001b[1;32m     18\u001b[0m \u001b[39mdef\u001b[39;00m \u001b[39mbackward\u001b[39m(\u001b[39mself\u001b[39m, delta):\n\u001b[1;32m     19\u001b[0m \t\u001b[39m# backward layer by layer\u001b[39;00m\n\u001b[1;32m     20\u001b[0m \t\u001b[39mfor\u001b[39;00m i \u001b[39min\u001b[39;00m \u001b[39mreversed\u001b[39m(\u001b[39mrange\u001b[39m(\u001b[39mself\u001b[39m\u001b[39m.\u001b[39mnumLayer)): \u001b[39m# reversed\u001b[39;00m\n\u001b[0;32m---> 21\u001b[0m \t\tdelta \u001b[39m=\u001b[39m \u001b[39mself\u001b[39;49m\u001b[39m.\u001b[39;49mlayerList[i]\u001b[39m.\u001b[39;49mbackward(delta)\n",
      "File \u001b[0;32m~/Downloads/homework-2/homework2-mlp/layers/relu_layer.py:45\u001b[0m, in \u001b[0;36mReLULayer.backward\u001b[0;34m(self, delta)\u001b[0m\n\u001b[1;32m     38\u001b[0m \u001b[39mdef\u001b[39;00m \u001b[39mbackward\u001b[39m(\u001b[39mself\u001b[39m, delta):\n\u001b[1;32m     39\u001b[0m \n\u001b[1;32m     40\u001b[0m \t\u001b[39m############################################################################\u001b[39;00m\n\u001b[0;32m   (...)\u001b[0m\n\u001b[1;32m     43\u001b[0m \n\u001b[1;32m     44\u001b[0m \t\u001b[39m#return np.dot(self.out, np.dot(np.transpose(self.relu(self.out)), delta))\u001b[39;00m\n\u001b[0;32m---> 45\u001b[0m \t\u001b[39mreturn\u001b[39;00m delta \u001b[39m*\u001b[39m \u001b[39mself\u001b[39;49m\u001b[39m.\u001b[39;49mreluP(\u001b[39mself\u001b[39;49m\u001b[39m.\u001b[39;49mout)\n",
      "File \u001b[0;32m~/Downloads/homework-2/homework2-mlp/layers/relu_layer.py:12\u001b[0m, in \u001b[0;36mReLULayer.reluP\u001b[0;34m(z)\u001b[0m\n\u001b[1;32m     10\u001b[0m \u001b[39m@staticmethod\u001b[39m\n\u001b[1;32m     11\u001b[0m \u001b[39mdef\u001b[39;00m \u001b[39mreluP\u001b[39m(z):\n\u001b[0;32m---> 12\u001b[0m \t\u001b[39mif\u001b[39;00m(z \u001b[39m>\u001b[39m \u001b[39m0\u001b[39m):\n\u001b[1;32m     13\u001b[0m \t\t\u001b[39mreturn\u001b[39;00m \u001b[39m1\u001b[39m\n\u001b[1;32m     14\u001b[0m \t\u001b[39melse\u001b[39;00m:\n",
      "\u001b[0;31mValueError\u001b[0m: The truth value of an array with more than one element is ambiguous. Use a.any() or a.all()"
     ]
    }
   ],
   "source": [
    "reluMLP, relu_loss, relu_acc = train(reluMLP, criterion, sgd, data_train, max_epoch, batch_size, disp_freq)"
   ]
  },
  {
   "cell_type": "code",
   "execution_count": null,
   "metadata": {},
   "outputs": [
    {
     "name": "stdout",
     "output_type": "stream",
     "text": [
      "Testing...\n",
      "The test accuracy is 0.0980.\n",
      "\n"
     ]
    }
   ],
   "source": [
    "test(reluMLP, criterion, data_test, batch_size, disp_freq)"
   ]
  },
  {
   "cell_type": "markdown",
   "metadata": {},
   "source": [
    "## Plot"
   ]
  },
  {
   "cell_type": "code",
   "execution_count": null,
   "metadata": {},
   "outputs": [
    {
     "data": {
      "image/png": "[encoded data removed]",
      "text/plain": [
       "<Figure size 432x288 with 1 Axes>"
      ]
     },
     "metadata": {
      "needs_background": "light"
     },
     "output_type": "display_data"
    },
    {
     "data": {
      "image/png": "[encoded data removed]",
      "text/plain": [
       "<Figure size 432x288 with 1 Axes>"
      ]
     },
     "metadata": {
      "needs_background": "light"
     },
     "output_type": "display_data"
    }
   ],
   "source": [
    "plot_loss_and_acc({'Sigmoid': [sigmoid_loss, sigmoid_acc],\n",
    "                   'relu': [relu_loss, relu_acc]})"
   ]
  },
  {
   "cell_type": "markdown",
   "metadata": {},
   "source": [
    "## 2. MLP with Softmax Cross-Entropy Loss\n",
    "In part-2, you need to train a MLP with **Softmax Cross-Entropy Loss**.  \n",
    "**Sigmoid Activation Function** and **ReLU Activation Function** will be used respectively again.\n",
    "### TODO\n",
    "Before executing the following code, you should complete **criterion/softmax_cross_entropy_loss.py**."
   ]
  },
  {
   "cell_type": "code",
   "execution_count": null,
   "metadata": {},
   "outputs": [],
   "source": [
    "from criterion import SoftmaxCrossEntropyLossLayer\n",
    "\n",
    "criterion = SoftmaxCrossEntropyLossLayer()\n",
    "\n",
    "sgd = SGD(learning_rate_SGD, weight_decay)"
   ]
  },
  {
   "cell_type": "markdown",
   "metadata": {},
   "source": [
    "## 2.1 MLP with Softmax Cross-Entropy Loss and Sigmoid Activation Function\n",
    "Build and train a MLP contraining one hidden layer with 128 units using Sigmoid activation function and Softmax cross-entropy loss function."
   ]
  },
  {
   "cell_type": "code",
   "execution_count": null,
   "metadata": {},
   "outputs": [],
   "source": [
    "sigmoidMLP = Network()\n",
    "# Build MLP with FCLayer and SigmoidLayer\n",
    "# 128 is the number of hidden units, you can change by your own\n",
    "sigmoidMLP.add(FCLayer(784, 128))\n",
    "sigmoidMLP.add(SigmoidLayer())\n",
    "sigmoidMLP.add(FCLayer(128, 10))"
   ]
  },
  {
   "cell_type": "markdown",
   "metadata": {},
   "source": [
    "### Train"
   ]
  },
  {
   "cell_type": "code",
   "execution_count": null,
   "metadata": {
    "scrolled": true
   },
   "outputs": [
    {
     "ename": "KeyboardInterrupt",
     "evalue": "",
     "output_type": "error",
     "traceback": [
      "\u001b[0;31m---------------------------------------------------------------------------\u001b[0m",
      "\u001b[0;31mAttributeError\u001b[0m                            Traceback (most recent call last)",
      "File \u001b[0;32m/opt/homebrew/Caskroom/miniforge/base/envs/tf_m1/lib/python3.8/contextlib.py:131\u001b[0m, in \u001b[0;36m_GeneratorContextManager.__exit__\u001b[0;34m(self, type, value, traceback)\u001b[0m\n\u001b[1;32m    130\u001b[0m \u001b[39mtry\u001b[39;00m:\n\u001b[0;32m--> 131\u001b[0m     \u001b[39mself\u001b[39;49m\u001b[39m.\u001b[39;49mgen\u001b[39m.\u001b[39;49mthrow(\u001b[39mtype\u001b[39;49m, value, traceback)\n\u001b[1;32m    132\u001b[0m \u001b[39mexcept\u001b[39;00m \u001b[39mStopIteration\u001b[39;00m \u001b[39mas\u001b[39;00m exc:\n\u001b[1;32m    133\u001b[0m     \u001b[39m# Suppress StopIteration *unless* it's the same exception that\u001b[39;00m\n\u001b[1;32m    134\u001b[0m     \u001b[39m# was passed to throw().  This prevents a StopIteration\u001b[39;00m\n\u001b[1;32m    135\u001b[0m     \u001b[39m# raised inside the \"with\" statement from being suppressed.\u001b[39;00m\n",
      "File \u001b[0;32m/opt/homebrew/Caskroom/miniforge/base/envs/tf_m1/lib/python3.8/site-packages/tensorflow/python/framework/ops.py:5845\u001b[0m, in \u001b[0;36m_DefaultGraphStack.get_controller\u001b[0;34m(self, default)\u001b[0m\n\u001b[1;32m   5843\u001b[0m   \u001b[39mwith\u001b[39;00m \u001b[39msuper\u001b[39m(_DefaultGraphStack,\n\u001b[1;32m   5844\u001b[0m              \u001b[39mself\u001b[39m)\u001b[39m.\u001b[39mget_controller(default) \u001b[39mas\u001b[39;00m g, context\u001b[39m.\u001b[39mgraph_mode():\n\u001b[0;32m-> 5845\u001b[0m     \u001b[39myield\u001b[39;00m g\n\u001b[1;32m   5846\u001b[0m \u001b[39mfinally\u001b[39;00m:\n\u001b[1;32m   5847\u001b[0m   \u001b[39m# If an exception is raised here it may be hiding a related exception in\u001b[39;00m\n\u001b[1;32m   5848\u001b[0m   \u001b[39m# the try-block (just above).\u001b[39;00m\n",
      "File \u001b[0;32m~/Downloads/homework-2/homework2-mlp/solver.py:35\u001b[0m, in \u001b[0;36mtrain\u001b[0;34m(model, criterion, optimizer, dataset, max_epoch, batch_size, disp_freq)\u001b[0m\n\u001b[1;32m     34\u001b[0m \u001b[39mfor\u001b[39;00m epoch \u001b[39min\u001b[39;00m \u001b[39mrange\u001b[39m(max_epoch):\n\u001b[0;32m---> 35\u001b[0m \tbatch_train_loss, batch_train_acc \u001b[39m=\u001b[39m train_one_epoch(model, criterion, optimizer, train_get_next,\n\u001b[1;32m     36\u001b[0m \t                                                    max_epoch, batch_size, disp_freq, epoch, sess)\n\u001b[1;32m     37\u001b[0m \tbatch_val_loss, batch_val_acc \u001b[39m=\u001b[39m validate(model, criterion, valid_get_next, batch_size, sess)\n",
      "File \u001b[0;32m~/Downloads/homework-2/homework2-mlp/solver.py:71\u001b[0m, in \u001b[0;36mtrain_one_epoch\u001b[0;34m(model, criterion, optimizer, data_get_next, max_epoch, batch_size, disp_freq, epoch, sess)\u001b[0m\n\u001b[1;32m     70\u001b[0m delta \u001b[39m=\u001b[39m criterion\u001b[39m.\u001b[39mbackward()\n\u001b[0;32m---> 71\u001b[0m model\u001b[39m.\u001b[39;49mbackward(delta)\n\u001b[1;32m     73\u001b[0m \u001b[39m# Update weights, see optimize.py\u001b[39;00m\n",
      "File \u001b[0;32m~/Downloads/homework-2/homework2-mlp/network.py:21\u001b[0m, in \u001b[0;36mNetwork.backward\u001b[0;34m(self, delta)\u001b[0m\n\u001b[1;32m     20\u001b[0m \u001b[39mfor\u001b[39;00m i \u001b[39min\u001b[39;00m \u001b[39mreversed\u001b[39m(\u001b[39mrange\u001b[39m(\u001b[39mself\u001b[39m\u001b[39m.\u001b[39mnumLayer)): \u001b[39m# reversed\u001b[39;00m\n\u001b[0;32m---> 21\u001b[0m \tdelta \u001b[39m=\u001b[39m \u001b[39mself\u001b[39;49m\u001b[39m.\u001b[39;49mlayerList[i]\u001b[39m.\u001b[39;49mbackward(delta)\n",
      "File \u001b[0;32m~/Downloads/homework-2/homework2-mlp/layers/fc_layer.py:61\u001b[0m, in \u001b[0;36mFCLayer.backward\u001b[0;34m(self, delta)\u001b[0m\n\u001b[1;32m     60\u001b[0m \u001b[39mself\u001b[39m\u001b[39m.\u001b[39mdelta \u001b[39m=\u001b[39m delta\n\u001b[0;32m---> 61\u001b[0m \u001b[39mself\u001b[39m\u001b[39m.\u001b[39merr \u001b[39m=\u001b[39m delta\u001b[39m.\u001b[39;49mdot(\u001b[39mself\u001b[39m\u001b[39m.\u001b[39mgrad_W\u001b[39m.\u001b[39mT)\n\u001b[1;32m     63\u001b[0m \u001b[39mreturn\u001b[39;00m \u001b[39mself\u001b[39m\u001b[39m.\u001b[39merr\n",
      "\u001b[0;31mAttributeError\u001b[0m: 'numpy.float64' object has no attribute 'dot'",
      "\nDuring handling of the above exception, another exception occurred:\n",
      "\u001b[0;31mKeyboardInterrupt\u001b[0m                         Traceback (most recent call last)",
      "\u001b[1;32m/Users/youssefbr/Downloads/homework-2/homework2-mlp/homework2-mlp.ipynb Cell 18'\u001b[0m in \u001b[0;36m<cell line: 1>\u001b[0;34m()\u001b[0m\n\u001b[0;32m----> <a href='vscode-notebook-cell:/Users/youssefbr/Downloads/homework-2/homework2-mlp/homework2-mlp.ipynb#ch0000017?line=0'>1</a>\u001b[0m sigmoidMLP, sigmoid_loss, sigmoid_acc \u001b[39m=\u001b[39m train(sigmoidMLP, criterion, sgd, data_train, max_epoch, batch_size, disp_freq)\n",
      "File \u001b[0;32m~/Downloads/homework-2/homework2-mlp/solver.py:50\u001b[0m, in \u001b[0;36mtrain\u001b[0;34m(model, criterion, optimizer, dataset, max_epoch, batch_size, disp_freq)\u001b[0m\n\u001b[1;32m     45\u001b[0m \t\t\u001b[39mprint\u001b[39m(\u001b[39m'\u001b[39m\u001b[39mEpoch [\u001b[39m\u001b[39m{}\u001b[39;00m\u001b[39m]\u001b[39m\u001b[39m\\t\u001b[39;00m\u001b[39m Average training loss \u001b[39m\u001b[39m{:.4f}\u001b[39;00m\u001b[39m\\t\u001b[39;00m\u001b[39m Average training accuracy \u001b[39m\u001b[39m{:.4f}\u001b[39;00m\u001b[39m'\u001b[39m\u001b[39m.\u001b[39mformat(\n\u001b[1;32m     46\u001b[0m \t\t\tepoch, avg_train_loss[\u001b[39m-\u001b[39m\u001b[39m1\u001b[39m], avg_train_acc[\u001b[39m-\u001b[39m\u001b[39m1\u001b[39m]))\n\u001b[1;32m     48\u001b[0m \t\t\u001b[39mprint\u001b[39m(\u001b[39m'\u001b[39m\u001b[39mEpoch [\u001b[39m\u001b[39m{}\u001b[39;00m\u001b[39m]\u001b[39m\u001b[39m\\t\u001b[39;00m\u001b[39m Average validation loss \u001b[39m\u001b[39m{:.4f}\u001b[39;00m\u001b[39m\\t\u001b[39;00m\u001b[39m Average validation accuracy \u001b[39m\u001b[39m{:.4f}\u001b[39;00m\u001b[39m'\u001b[39m\u001b[39m.\u001b[39mformat(\n\u001b[1;32m     49\u001b[0m \t\t\tepoch, avg_val_loss[\u001b[39m-\u001b[39m\u001b[39m1\u001b[39m], avg_val_acc[\u001b[39m-\u001b[39m\u001b[39m1\u001b[39m]))\n\u001b[0;32m---> 50\u001b[0m \t\t\u001b[39mprint\u001b[39m()\n\u001b[1;32m     52\u001b[0m \u001b[39mreturn\u001b[39;00m model, avg_val_loss, avg_val_acc\n",
      "File \u001b[0;32m/opt/homebrew/Caskroom/miniforge/base/envs/tf_m1/lib/python3.8/site-packages/tensorflow/python/client/session.py:1652\u001b[0m, in \u001b[0;36mSession.__exit__\u001b[0;34m(self, exec_type, exec_value, exec_tb)\u001b[0m\n\u001b[1;32m   1650\u001b[0m close_thread\u001b[39m.\u001b[39mdaemon \u001b[39m=\u001b[39m \u001b[39mTrue\u001b[39;00m\n\u001b[1;32m   1651\u001b[0m close_thread\u001b[39m.\u001b[39mstart()\n\u001b[0;32m-> 1652\u001b[0m close_thread\u001b[39m.\u001b[39;49mjoin(\u001b[39m30.0\u001b[39;49m)\n\u001b[1;32m   1653\u001b[0m \u001b[39mif\u001b[39;00m close_thread\u001b[39m.\u001b[39mis_alive():\n\u001b[1;32m   1654\u001b[0m   logging\u001b[39m.\u001b[39merror(\n\u001b[1;32m   1655\u001b[0m       \u001b[39m'\u001b[39m\u001b[39mSession failed to close after 30 seconds. Continuing after this \u001b[39m\u001b[39m'\u001b[39m\n\u001b[1;32m   1656\u001b[0m       \u001b[39m'\u001b[39m\u001b[39mpoint may leave your program in an undefined state.\u001b[39m\u001b[39m'\u001b[39m)\n",
      "File \u001b[0;32m/opt/homebrew/Caskroom/miniforge/base/envs/tf_m1/lib/python3.8/threading.py:1015\u001b[0m, in \u001b[0;36mThread.join\u001b[0;34m(self, timeout)\u001b[0m\n\u001b[1;32m   1011\u001b[0m     \u001b[39mself\u001b[39m\u001b[39m.\u001b[39m_wait_for_tstate_lock()\n\u001b[1;32m   1012\u001b[0m \u001b[39melse\u001b[39;00m:\n\u001b[1;32m   1013\u001b[0m     \u001b[39m# the behavior of a negative timeout isn't documented, but\u001b[39;00m\n\u001b[1;32m   1014\u001b[0m     \u001b[39m# historically .join(timeout=x) for x<0 has acted as if timeout=0\u001b[39;00m\n\u001b[0;32m-> 1015\u001b[0m     \u001b[39mself\u001b[39;49m\u001b[39m.\u001b[39;49m_wait_for_tstate_lock(timeout\u001b[39m=\u001b[39;49m\u001b[39mmax\u001b[39;49m(timeout, \u001b[39m0\u001b[39;49m))\n",
      "File \u001b[0;32m/opt/homebrew/Caskroom/miniforge/base/envs/tf_m1/lib/python3.8/threading.py:1027\u001b[0m, in \u001b[0;36mThread._wait_for_tstate_lock\u001b[0;34m(self, block, timeout)\u001b[0m\n\u001b[1;32m   1025\u001b[0m \u001b[39mif\u001b[39;00m lock \u001b[39mis\u001b[39;00m \u001b[39mNone\u001b[39;00m:  \u001b[39m# already determined that the C code is done\u001b[39;00m\n\u001b[1;32m   1026\u001b[0m     \u001b[39massert\u001b[39;00m \u001b[39mself\u001b[39m\u001b[39m.\u001b[39m_is_stopped\n\u001b[0;32m-> 1027\u001b[0m \u001b[39melif\u001b[39;00m lock\u001b[39m.\u001b[39;49macquire(block, timeout):\n\u001b[1;32m   1028\u001b[0m     lock\u001b[39m.\u001b[39mrelease()\n\u001b[1;32m   1029\u001b[0m     \u001b[39mself\u001b[39m\u001b[39m.\u001b[39m_stop()\n",
      "\u001b[0;31mKeyboardInterrupt\u001b[0m: "
     ]
    }
   ],
   "source": [
    "sigmoidMLP, sigmoid_loss, sigmoid_acc = train(sigmoidMLP, criterion, sgd, data_train, max_epoch, batch_size, disp_freq)"
   ]
  },
  {
   "cell_type": "markdown",
   "metadata": {},
   "source": [
    "### Test"
   ]
  },
  {
   "cell_type": "code",
   "execution_count": null,
   "metadata": {},
   "outputs": [
    {
     "name": "stdout",
     "output_type": "stream",
     "text": [
      "Testing...\n",
      "The test accuracy is 0.0980.\n",
      "\n"
     ]
    }
   ],
   "source": [
    "test(sigmoidMLP, criterion, data_test, batch_size, disp_freq)"
   ]
  },
  {
   "cell_type": "markdown",
   "metadata": {},
   "source": [
    "## 2.2 MLP with Softmax Cross-Entropy Loss and ReLU Activation Function\n",
    "Build and train a MLP contraining one hidden layer with 128 units using ReLU activation function and Softmax cross-entropy loss function."
   ]
  },
  {
   "cell_type": "code",
   "execution_count": null,
   "metadata": {},
   "outputs": [],
   "source": [
    "reluMLP = Network()\n",
    "# Build ReLUMLP with FCLayer and ReLULayer\n",
    "# 128 is the number of hidden units, you can change by your own\n",
    "reluMLP.add(FCLayer(784, 128))\n",
    "reluMLP.add(ReLULayer())\n",
    "reluMLP.add(FCLayer(128, 10))"
   ]
  },
  {
   "cell_type": "code",
   "execution_count": null,
   "metadata": {
    "scrolled": true
   },
   "outputs": [
    {
     "name": "stdout",
     "output_type": "stream",
     "text": [
      "Epoch [0][20]\t Batch [0][550]\t Training Loss 2.5354\t Accuracy 0.1300\n",
      "Epoch [0][20]\t Batch [50][550]\t Training Loss 2.5354\t Accuracy 0.0963\n",
      "Epoch [0][20]\t Batch [100][550]\t Training Loss 2.5354\t Accuracy 0.1001\n",
      "Epoch [0][20]\t Batch [150][550]\t Training Loss 2.5354\t Accuracy 0.0996\n",
      "Epoch [0][20]\t Batch [200][550]\t Training Loss 2.5354\t Accuracy 0.0996\n",
      "Epoch [0][20]\t Batch [250][550]\t Training Loss 2.5354\t Accuracy 0.0988\n",
      "Epoch [0][20]\t Batch [300][550]\t Training Loss 2.5354\t Accuracy 0.0987\n",
      "Epoch [0][20]\t Batch [350][550]\t Training Loss 2.5354\t Accuracy 0.0981\n",
      "Epoch [0][20]\t Batch [400][550]\t Training Loss 2.5354\t Accuracy 0.0982\n",
      "Epoch [0][20]\t Batch [450][550]\t Training Loss 2.5354\t Accuracy 0.0983\n",
      "Epoch [0][20]\t Batch [500][550]\t Training Loss 2.5354\t Accuracy 0.0986\n",
      "\n",
      "Epoch [0]\t Average training loss 2.5354\t Average training accuracy 0.0988\n",
      "Epoch [0]\t Average validation loss 2.5354\t Average validation accuracy 0.0978\n",
      "\n",
      "Epoch [1][20]\t Batch [0][550]\t Training Loss 2.5354\t Accuracy 0.1300\n",
      "Epoch [1][20]\t Batch [50][550]\t Training Loss 2.5354\t Accuracy 0.0963\n",
      "Epoch [1][20]\t Batch [100][550]\t Training Loss 2.5354\t Accuracy 0.1001\n",
      "Epoch [1][20]\t Batch [150][550]\t Training Loss 2.5354\t Accuracy 0.0996\n",
      "Epoch [1][20]\t Batch [200][550]\t Training Loss 2.5354\t Accuracy 0.0996\n",
      "Epoch [1][20]\t Batch [250][550]\t Training Loss 2.5354\t Accuracy 0.0988\n",
      "Epoch [1][20]\t Batch [300][550]\t Training Loss 2.5354\t Accuracy 0.0987\n",
      "Epoch [1][20]\t Batch [350][550]\t Training Loss 2.5354\t Accuracy 0.0981\n",
      "Epoch [1][20]\t Batch [400][550]\t Training Loss 2.5354\t Accuracy 0.0982\n",
      "Epoch [1][20]\t Batch [450][550]\t Training Loss 2.5354\t Accuracy 0.0983\n",
      "Epoch [1][20]\t Batch [500][550]\t Training Loss 2.5354\t Accuracy 0.0986\n",
      "\n",
      "Epoch [1]\t Average training loss 2.5354\t Average training accuracy 0.0988\n",
      "Epoch [1]\t Average validation loss 2.5354\t Average validation accuracy 0.0978\n",
      "\n",
      "Epoch [2][20]\t Batch [0][550]\t Training Loss 2.5354\t Accuracy 0.1300\n",
      "Epoch [2][20]\t Batch [50][550]\t Training Loss 2.5354\t Accuracy 0.0963\n",
      "Epoch [2][20]\t Batch [100][550]\t Training Loss 2.5354\t Accuracy 0.1001\n",
      "Epoch [2][20]\t Batch [150][550]\t Training Loss 2.5354\t Accuracy 0.0996\n",
      "Epoch [2][20]\t Batch [200][550]\t Training Loss 2.5354\t Accuracy 0.0996\n",
      "Epoch [2][20]\t Batch [250][550]\t Training Loss 2.5354\t Accuracy 0.0988\n",
      "Epoch [2][20]\t Batch [300][550]\t Training Loss 2.5354\t Accuracy 0.0987\n",
      "Epoch [2][20]\t Batch [350][550]\t Training Loss 2.5354\t Accuracy 0.0981\n",
      "Epoch [2][20]\t Batch [400][550]\t Training Loss 2.5354\t Accuracy 0.0982\n",
      "Epoch [2][20]\t Batch [450][550]\t Training Loss 2.5354\t Accuracy 0.0983\n",
      "Epoch [2][20]\t Batch [500][550]\t Training Loss 2.5354\t Accuracy 0.0986\n",
      "\n",
      "Epoch [2]\t Average training loss 2.5354\t Average training accuracy 0.0988\n",
      "Epoch [2]\t Average validation loss 2.5354\t Average validation accuracy 0.0978\n",
      "\n",
      "Epoch [3][20]\t Batch [0][550]\t Training Loss 2.5354\t Accuracy 0.1300\n",
      "Epoch [3][20]\t Batch [50][550]\t Training Loss 2.5354\t Accuracy 0.0963\n",
      "Epoch [3][20]\t Batch [100][550]\t Training Loss 2.5354\t Accuracy 0.1001\n",
      "Epoch [3][20]\t Batch [150][550]\t Training Loss 2.5354\t Accuracy 0.0996\n",
      "Epoch [3][20]\t Batch [200][550]\t Training Loss 2.5354\t Accuracy 0.0996\n",
      "Epoch [3][20]\t Batch [250][550]\t Training Loss 2.5354\t Accuracy 0.0988\n",
      "Epoch [3][20]\t Batch [300][550]\t Training Loss 2.5354\t Accuracy 0.0987\n",
      "Epoch [3][20]\t Batch [350][550]\t Training Loss 2.5354\t Accuracy 0.0981\n",
      "Epoch [3][20]\t Batch [400][550]\t Training Loss 2.5354\t Accuracy 0.0982\n",
      "Epoch [3][20]\t Batch [450][550]\t Training Loss 2.5354\t Accuracy 0.0983\n",
      "Epoch [3][20]\t Batch [500][550]\t Training Loss 2.5354\t Accuracy 0.0986\n",
      "\n",
      "Epoch [3]\t Average training loss 2.5354\t Average training accuracy 0.0988\n",
      "Epoch [3]\t Average validation loss 2.5354\t Average validation accuracy 0.0978\n",
      "\n",
      "Epoch [4][20]\t Batch [0][550]\t Training Loss 2.5354\t Accuracy 0.1300\n",
      "Epoch [4][20]\t Batch [50][550]\t Training Loss 2.5354\t Accuracy 0.0963\n",
      "Epoch [4][20]\t Batch [100][550]\t Training Loss 2.5354\t Accuracy 0.1001\n",
      "Epoch [4][20]\t Batch [150][550]\t Training Loss 2.5354\t Accuracy 0.0996\n",
      "Epoch [4][20]\t Batch [200][550]\t Training Loss 2.5354\t Accuracy 0.0996\n",
      "Epoch [4][20]\t Batch [250][550]\t Training Loss 2.5354\t Accuracy 0.0988\n",
      "Epoch [4][20]\t Batch [300][550]\t Training Loss 2.5354\t Accuracy 0.0987\n",
      "Epoch [4][20]\t Batch [350][550]\t Training Loss 2.5354\t Accuracy 0.0981\n",
      "Epoch [4][20]\t Batch [400][550]\t Training Loss 2.5354\t Accuracy 0.0982\n",
      "Epoch [4][20]\t Batch [450][550]\t Training Loss 2.5354\t Accuracy 0.0983\n",
      "Epoch [4][20]\t Batch [500][550]\t Training Loss 2.5354\t Accuracy 0.0986\n",
      "\n",
      "Epoch [4]\t Average training loss 2.5354\t Average training accuracy 0.0988\n",
      "Epoch [4]\t Average validation loss 2.5354\t Average validation accuracy 0.0978\n",
      "\n",
      "Epoch [5][20]\t Batch [0][550]\t Training Loss 2.5354\t Accuracy 0.1300\n",
      "Epoch [5][20]\t Batch [50][550]\t Training Loss 2.5354\t Accuracy 0.0963\n",
      "Epoch [5][20]\t Batch [100][550]\t Training Loss 2.5354\t Accuracy 0.1001\n",
      "Epoch [5][20]\t Batch [150][550]\t Training Loss 2.5354\t Accuracy 0.0996\n",
      "Epoch [5][20]\t Batch [200][550]\t Training Loss 2.5354\t Accuracy 0.0996\n",
      "Epoch [5][20]\t Batch [250][550]\t Training Loss 2.5354\t Accuracy 0.0988\n",
      "Epoch [5][20]\t Batch [300][550]\t Training Loss 2.5354\t Accuracy 0.0987\n",
      "Epoch [5][20]\t Batch [350][550]\t Training Loss 2.5354\t Accuracy 0.0981\n",
      "Epoch [5][20]\t Batch [400][550]\t Training Loss 2.5354\t Accuracy 0.0982\n",
      "Epoch [5][20]\t Batch [450][550]\t Training Loss 2.5354\t Accuracy 0.0983\n",
      "Epoch [5][20]\t Batch [500][550]\t Training Loss 2.5354\t Accuracy 0.0986\n",
      "\n",
      "Epoch [5]\t Average training loss 2.5354\t Average training accuracy 0.0988\n",
      "Epoch [5]\t Average validation loss 2.5354\t Average validation accuracy 0.0978\n",
      "\n",
      "Epoch [6][20]\t Batch [0][550]\t Training Loss 2.5354\t Accuracy 0.1300\n",
      "Epoch [6][20]\t Batch [50][550]\t Training Loss 2.5354\t Accuracy 0.0963\n",
      "Epoch [6][20]\t Batch [100][550]\t Training Loss 2.5354\t Accuracy 0.1001\n",
      "Epoch [6][20]\t Batch [150][550]\t Training Loss 2.5354\t Accuracy 0.0996\n",
      "Epoch [6][20]\t Batch [200][550]\t Training Loss 2.5354\t Accuracy 0.0996\n",
      "Epoch [6][20]\t Batch [250][550]\t Training Loss 2.5354\t Accuracy 0.0988\n",
      "Epoch [6][20]\t Batch [300][550]\t Training Loss 2.5354\t Accuracy 0.0987\n",
      "Epoch [6][20]\t Batch [350][550]\t Training Loss 2.5354\t Accuracy 0.0981\n",
      "Epoch [6][20]\t Batch [400][550]\t Training Loss 2.5354\t Accuracy 0.0982\n",
      "Epoch [6][20]\t Batch [450][550]\t Training Loss 2.5354\t Accuracy 0.0983\n",
      "Epoch [6][20]\t Batch [500][550]\t Training Loss 2.5354\t Accuracy 0.0986\n",
      "\n",
      "Epoch [6]\t Average training loss 2.5354\t Average training accuracy 0.0988\n",
      "Epoch [6]\t Average validation loss 2.5354\t Average validation accuracy 0.0978\n",
      "\n",
      "Epoch [7][20]\t Batch [0][550]\t Training Loss 2.5354\t Accuracy 0.1300\n",
      "Epoch [7][20]\t Batch [50][550]\t Training Loss 2.5354\t Accuracy 0.0963\n",
      "Epoch [7][20]\t Batch [100][550]\t Training Loss 2.5354\t Accuracy 0.1001\n",
      "Epoch [7][20]\t Batch [150][550]\t Training Loss 2.5354\t Accuracy 0.0996\n",
      "Epoch [7][20]\t Batch [200][550]\t Training Loss 2.5354\t Accuracy 0.0996\n",
      "Epoch [7][20]\t Batch [250][550]\t Training Loss 2.5354\t Accuracy 0.0988\n",
      "Epoch [7][20]\t Batch [300][550]\t Training Loss 2.5354\t Accuracy 0.0987\n",
      "Epoch [7][20]\t Batch [350][550]\t Training Loss 2.5354\t Accuracy 0.0981\n",
      "Epoch [7][20]\t Batch [400][550]\t Training Loss 2.5354\t Accuracy 0.0982\n",
      "Epoch [7][20]\t Batch [450][550]\t Training Loss 2.5354\t Accuracy 0.0983\n",
      "Epoch [7][20]\t Batch [500][550]\t Training Loss 2.5354\t Accuracy 0.0986\n",
      "\n",
      "Epoch [7]\t Average training loss 2.5354\t Average training accuracy 0.0988\n",
      "Epoch [7]\t Average validation loss 2.5354\t Average validation accuracy 0.0978\n",
      "\n",
      "Epoch [8][20]\t Batch [0][550]\t Training Loss 2.5354\t Accuracy 0.1300\n",
      "Epoch [8][20]\t Batch [50][550]\t Training Loss 2.5354\t Accuracy 0.0963\n",
      "Epoch [8][20]\t Batch [100][550]\t Training Loss 2.5354\t Accuracy 0.1001\n",
      "Epoch [8][20]\t Batch [150][550]\t Training Loss 2.5354\t Accuracy 0.0996\n",
      "Epoch [8][20]\t Batch [200][550]\t Training Loss 2.5354\t Accuracy 0.0996\n",
      "Epoch [8][20]\t Batch [250][550]\t Training Loss 2.5354\t Accuracy 0.0988\n",
      "Epoch [8][20]\t Batch [300][550]\t Training Loss 2.5354\t Accuracy 0.0987\n",
      "Epoch [8][20]\t Batch [350][550]\t Training Loss 2.5354\t Accuracy 0.0981\n",
      "Epoch [8][20]\t Batch [400][550]\t Training Loss 2.5354\t Accuracy 0.0982\n",
      "Epoch [8][20]\t Batch [450][550]\t Training Loss 2.5354\t Accuracy 0.0983\n",
      "Epoch [8][20]\t Batch [500][550]\t Training Loss 2.5354\t Accuracy 0.0986\n"
     ]
    },
    {
     "name": "stdout",
     "output_type": "stream",
     "text": [
      "\n",
      "Epoch [8]\t Average training loss 2.5354\t Average training accuracy 0.0988\n",
      "Epoch [8]\t Average validation loss 2.5354\t Average validation accuracy 0.0978\n",
      "\n",
      "Epoch [9][20]\t Batch [0][550]\t Training Loss 2.5354\t Accuracy 0.1300\n",
      "Epoch [9][20]\t Batch [50][550]\t Training Loss 2.5354\t Accuracy 0.0963\n",
      "Epoch [9][20]\t Batch [100][550]\t Training Loss 2.5354\t Accuracy 0.1001\n",
      "Epoch [9][20]\t Batch [150][550]\t Training Loss 2.5354\t Accuracy 0.0996\n",
      "Epoch [9][20]\t Batch [200][550]\t Training Loss 2.5354\t Accuracy 0.0996\n",
      "Epoch [9][20]\t Batch [250][550]\t Training Loss 2.5354\t Accuracy 0.0988\n",
      "Epoch [9][20]\t Batch [300][550]\t Training Loss 2.5354\t Accuracy 0.0987\n",
      "Epoch [9][20]\t Batch [350][550]\t Training Loss 2.5354\t Accuracy 0.0981\n",
      "Epoch [9][20]\t Batch [400][550]\t Training Loss 2.5354\t Accuracy 0.0982\n",
      "Epoch [9][20]\t Batch [450][550]\t Training Loss 2.5354\t Accuracy 0.0983\n",
      "Epoch [9][20]\t Batch [500][550]\t Training Loss 2.5354\t Accuracy 0.0986\n",
      "\n",
      "Epoch [9]\t Average training loss 2.5354\t Average training accuracy 0.0988\n",
      "Epoch [9]\t Average validation loss 2.5354\t Average validation accuracy 0.0978\n",
      "\n",
      "Epoch [10][20]\t Batch [0][550]\t Training Loss 2.5354\t Accuracy 0.1300\n",
      "Epoch [10][20]\t Batch [50][550]\t Training Loss 2.5354\t Accuracy 0.0963\n",
      "Epoch [10][20]\t Batch [100][550]\t Training Loss 2.5354\t Accuracy 0.1001\n",
      "Epoch [10][20]\t Batch [150][550]\t Training Loss 2.5354\t Accuracy 0.0996\n",
      "Epoch [10][20]\t Batch [200][550]\t Training Loss 2.5354\t Accuracy 0.0996\n",
      "Epoch [10][20]\t Batch [250][550]\t Training Loss 2.5354\t Accuracy 0.0988\n",
      "Epoch [10][20]\t Batch [300][550]\t Training Loss 2.5354\t Accuracy 0.0987\n",
      "Epoch [10][20]\t Batch [350][550]\t Training Loss 2.5354\t Accuracy 0.0981\n",
      "Epoch [10][20]\t Batch [400][550]\t Training Loss 2.5354\t Accuracy 0.0982\n",
      "Epoch [10][20]\t Batch [450][550]\t Training Loss 2.5354\t Accuracy 0.0983\n",
      "Epoch [10][20]\t Batch [500][550]\t Training Loss 2.5354\t Accuracy 0.0986\n",
      "\n",
      "Epoch [10]\t Average training loss 2.5354\t Average training accuracy 0.0988\n",
      "Epoch [10]\t Average validation loss 2.5354\t Average validation accuracy 0.0978\n",
      "\n",
      "Epoch [11][20]\t Batch [0][550]\t Training Loss 2.5354\t Accuracy 0.1300\n",
      "Epoch [11][20]\t Batch [50][550]\t Training Loss 2.5354\t Accuracy 0.0963\n",
      "Epoch [11][20]\t Batch [100][550]\t Training Loss 2.5354\t Accuracy 0.1001\n",
      "Epoch [11][20]\t Batch [150][550]\t Training Loss 2.5354\t Accuracy 0.0996\n",
      "Epoch [11][20]\t Batch [200][550]\t Training Loss 2.5354\t Accuracy 0.0996\n",
      "Epoch [11][20]\t Batch [250][550]\t Training Loss 2.5354\t Accuracy 0.0988\n",
      "Epoch [11][20]\t Batch [300][550]\t Training Loss 2.5354\t Accuracy 0.0987\n",
      "Epoch [11][20]\t Batch [350][550]\t Training Loss 2.5354\t Accuracy 0.0981\n",
      "Epoch [11][20]\t Batch [400][550]\t Training Loss 2.5354\t Accuracy 0.0982\n",
      "Epoch [11][20]\t Batch [450][550]\t Training Loss 2.5354\t Accuracy 0.0983\n",
      "Epoch [11][20]\t Batch [500][550]\t Training Loss 2.5354\t Accuracy 0.0986\n",
      "\n",
      "Epoch [11]\t Average training loss 2.5354\t Average training accuracy 0.0988\n",
      "Epoch [11]\t Average validation loss 2.5354\t Average validation accuracy 0.0978\n",
      "\n",
      "Epoch [12][20]\t Batch [0][550]\t Training Loss 2.5354\t Accuracy 0.1300\n",
      "Epoch [12][20]\t Batch [50][550]\t Training Loss 2.5354\t Accuracy 0.0963\n",
      "Epoch [12][20]\t Batch [100][550]\t Training Loss 2.5354\t Accuracy 0.1001\n",
      "Epoch [12][20]\t Batch [150][550]\t Training Loss 2.5354\t Accuracy 0.0996\n",
      "Epoch [12][20]\t Batch [200][550]\t Training Loss 2.5354\t Accuracy 0.0996\n",
      "Epoch [12][20]\t Batch [250][550]\t Training Loss 2.5354\t Accuracy 0.0988\n",
      "Epoch [12][20]\t Batch [300][550]\t Training Loss 2.5354\t Accuracy 0.0987\n",
      "Epoch [12][20]\t Batch [350][550]\t Training Loss 2.5354\t Accuracy 0.0981\n",
      "Epoch [12][20]\t Batch [400][550]\t Training Loss 2.5354\t Accuracy 0.0982\n",
      "Epoch [12][20]\t Batch [450][550]\t Training Loss 2.5354\t Accuracy 0.0983\n",
      "Epoch [12][20]\t Batch [500][550]\t Training Loss 2.5354\t Accuracy 0.0986\n",
      "\n",
      "Epoch [12]\t Average training loss 2.5354\t Average training accuracy 0.0988\n",
      "Epoch [12]\t Average validation loss 2.5354\t Average validation accuracy 0.0978\n",
      "\n",
      "Epoch [13][20]\t Batch [0][550]\t Training Loss 2.5354\t Accuracy 0.1300\n",
      "Epoch [13][20]\t Batch [50][550]\t Training Loss 2.5354\t Accuracy 0.0963\n",
      "Epoch [13][20]\t Batch [100][550]\t Training Loss 2.5354\t Accuracy 0.1001\n",
      "Epoch [13][20]\t Batch [150][550]\t Training Loss 2.5354\t Accuracy 0.0996\n",
      "Epoch [13][20]\t Batch [200][550]\t Training Loss 2.5354\t Accuracy 0.0996\n",
      "Epoch [13][20]\t Batch [250][550]\t Training Loss 2.5354\t Accuracy 0.0988\n",
      "Epoch [13][20]\t Batch [300][550]\t Training Loss 2.5354\t Accuracy 0.0987\n",
      "Epoch [13][20]\t Batch [350][550]\t Training Loss 2.5354\t Accuracy 0.0981\n",
      "Epoch [13][20]\t Batch [400][550]\t Training Loss 2.5354\t Accuracy 0.0982\n",
      "Epoch [13][20]\t Batch [450][550]\t Training Loss 2.5354\t Accuracy 0.0983\n",
      "Epoch [13][20]\t Batch [500][550]\t Training Loss 2.5354\t Accuracy 0.0986\n",
      "\n",
      "Epoch [13]\t Average training loss 2.5354\t Average training accuracy 0.0988\n",
      "Epoch [13]\t Average validation loss 2.5354\t Average validation accuracy 0.0978\n",
      "\n",
      "Epoch [14][20]\t Batch [0][550]\t Training Loss 2.5354\t Accuracy 0.1300\n",
      "Epoch [14][20]\t Batch [50][550]\t Training Loss 2.5354\t Accuracy 0.0963\n",
      "Epoch [14][20]\t Batch [100][550]\t Training Loss 2.5354\t Accuracy 0.1001\n",
      "Epoch [14][20]\t Batch [150][550]\t Training Loss 2.5354\t Accuracy 0.0996\n",
      "Epoch [14][20]\t Batch [200][550]\t Training Loss 2.5354\t Accuracy 0.0996\n",
      "Epoch [14][20]\t Batch [250][550]\t Training Loss 2.5354\t Accuracy 0.0988\n",
      "Epoch [14][20]\t Batch [300][550]\t Training Loss 2.5354\t Accuracy 0.0987\n",
      "Epoch [14][20]\t Batch [350][550]\t Training Loss 2.5354\t Accuracy 0.0981\n",
      "Epoch [14][20]\t Batch [400][550]\t Training Loss 2.5354\t Accuracy 0.0982\n",
      "Epoch [14][20]\t Batch [450][550]\t Training Loss 2.5354\t Accuracy 0.0983\n",
      "Epoch [14][20]\t Batch [500][550]\t Training Loss 2.5354\t Accuracy 0.0986\n",
      "\n",
      "Epoch [14]\t Average training loss 2.5354\t Average training accuracy 0.0988\n",
      "Epoch [14]\t Average validation loss 2.5354\t Average validation accuracy 0.0978\n",
      "\n",
      "Epoch [15][20]\t Batch [0][550]\t Training Loss 2.5354\t Accuracy 0.1300\n",
      "Epoch [15][20]\t Batch [50][550]\t Training Loss 2.5354\t Accuracy 0.0963\n",
      "Epoch [15][20]\t Batch [100][550]\t Training Loss 2.5354\t Accuracy 0.1001\n",
      "Epoch [15][20]\t Batch [150][550]\t Training Loss 2.5354\t Accuracy 0.0996\n",
      "Epoch [15][20]\t Batch [200][550]\t Training Loss 2.5354\t Accuracy 0.0996\n",
      "Epoch [15][20]\t Batch [250][550]\t Training Loss 2.5354\t Accuracy 0.0988\n",
      "Epoch [15][20]\t Batch [300][550]\t Training Loss 2.5354\t Accuracy 0.0987\n",
      "Epoch [15][20]\t Batch [350][550]\t Training Loss 2.5354\t Accuracy 0.0981\n",
      "Epoch [15][20]\t Batch [400][550]\t Training Loss 2.5354\t Accuracy 0.0982\n",
      "Epoch [15][20]\t Batch [450][550]\t Training Loss 2.5354\t Accuracy 0.0983\n",
      "Epoch [15][20]\t Batch [500][550]\t Training Loss 2.5354\t Accuracy 0.0986\n",
      "\n",
      "Epoch [15]\t Average training loss 2.5354\t Average training accuracy 0.0988\n",
      "Epoch [15]\t Average validation loss 2.5354\t Average validation accuracy 0.0978\n",
      "\n",
      "Epoch [16][20]\t Batch [0][550]\t Training Loss 2.5354\t Accuracy 0.1300\n",
      "Epoch [16][20]\t Batch [50][550]\t Training Loss 2.5354\t Accuracy 0.0963\n",
      "Epoch [16][20]\t Batch [100][550]\t Training Loss 2.5354\t Accuracy 0.1001\n",
      "Epoch [16][20]\t Batch [150][550]\t Training Loss 2.5354\t Accuracy 0.0996\n",
      "Epoch [16][20]\t Batch [200][550]\t Training Loss 2.5354\t Accuracy 0.0996\n",
      "Epoch [16][20]\t Batch [250][550]\t Training Loss 2.5354\t Accuracy 0.0988\n",
      "Epoch [16][20]\t Batch [300][550]\t Training Loss 2.5354\t Accuracy 0.0987\n",
      "Epoch [16][20]\t Batch [350][550]\t Training Loss 2.5354\t Accuracy 0.0981\n",
      "Epoch [16][20]\t Batch [400][550]\t Training Loss 2.5354\t Accuracy 0.0982\n",
      "Epoch [16][20]\t Batch [450][550]\t Training Loss 2.5354\t Accuracy 0.0983\n",
      "Epoch [16][20]\t Batch [500][550]\t Training Loss 2.5354\t Accuracy 0.0986\n",
      "\n",
      "Epoch [16]\t Average training loss 2.5354\t Average training accuracy 0.0988\n",
      "Epoch [16]\t Average validation loss 2.5354\t Average validation accuracy 0.0978\n",
      "\n",
      "Epoch [17][20]\t Batch [0][550]\t Training Loss 2.5354\t Accuracy 0.1300\n",
      "Epoch [17][20]\t Batch [50][550]\t Training Loss 2.5354\t Accuracy 0.0963\n",
      "Epoch [17][20]\t Batch [100][550]\t Training Loss 2.5354\t Accuracy 0.1001\n",
      "Epoch [17][20]\t Batch [150][550]\t Training Loss 2.5354\t Accuracy 0.0996\n",
      "Epoch [17][20]\t Batch [200][550]\t Training Loss 2.5354\t Accuracy 0.0996\n",
      "Epoch [17][20]\t Batch [250][550]\t Training Loss 2.5354\t Accuracy 0.0988\n",
      "Epoch [17][20]\t Batch [300][550]\t Training Loss 2.5354\t Accuracy 0.0987\n"
     ]
    },
    {
     "name": "stdout",
     "output_type": "stream",
     "text": [
      "Epoch [17][20]\t Batch [350][550]\t Training Loss 2.5354\t Accuracy 0.0981\n",
      "Epoch [17][20]\t Batch [400][550]\t Training Loss 2.5354\t Accuracy 0.0982\n",
      "Epoch [17][20]\t Batch [450][550]\t Training Loss 2.5354\t Accuracy 0.0983\n",
      "Epoch [17][20]\t Batch [500][550]\t Training Loss 2.5354\t Accuracy 0.0986\n",
      "\n",
      "Epoch [17]\t Average training loss 2.5354\t Average training accuracy 0.0988\n",
      "Epoch [17]\t Average validation loss 2.5354\t Average validation accuracy 0.0978\n",
      "\n",
      "Epoch [18][20]\t Batch [0][550]\t Training Loss 2.5354\t Accuracy 0.1300\n",
      "Epoch [18][20]\t Batch [50][550]\t Training Loss 2.5354\t Accuracy 0.0963\n",
      "Epoch [18][20]\t Batch [100][550]\t Training Loss 2.5354\t Accuracy 0.1001\n",
      "Epoch [18][20]\t Batch [150][550]\t Training Loss 2.5354\t Accuracy 0.0996\n",
      "Epoch [18][20]\t Batch [200][550]\t Training Loss 2.5354\t Accuracy 0.0996\n",
      "Epoch [18][20]\t Batch [250][550]\t Training Loss 2.5354\t Accuracy 0.0988\n",
      "Epoch [18][20]\t Batch [300][550]\t Training Loss 2.5354\t Accuracy 0.0987\n",
      "Epoch [18][20]\t Batch [350][550]\t Training Loss 2.5354\t Accuracy 0.0981\n",
      "Epoch [18][20]\t Batch [400][550]\t Training Loss 2.5354\t Accuracy 0.0982\n",
      "Epoch [18][20]\t Batch [450][550]\t Training Loss 2.5354\t Accuracy 0.0983\n",
      "Epoch [18][20]\t Batch [500][550]\t Training Loss 2.5354\t Accuracy 0.0986\n",
      "\n",
      "Epoch [18]\t Average training loss 2.5354\t Average training accuracy 0.0988\n",
      "Epoch [18]\t Average validation loss 2.5354\t Average validation accuracy 0.0978\n",
      "\n",
      "Epoch [19][20]\t Batch [0][550]\t Training Loss 2.5354\t Accuracy 0.1300\n",
      "Epoch [19][20]\t Batch [50][550]\t Training Loss 2.5354\t Accuracy 0.0963\n",
      "Epoch [19][20]\t Batch [100][550]\t Training Loss 2.5354\t Accuracy 0.1001\n",
      "Epoch [19][20]\t Batch [150][550]\t Training Loss 2.5354\t Accuracy 0.0996\n",
      "Epoch [19][20]\t Batch [200][550]\t Training Loss 2.5354\t Accuracy 0.0996\n",
      "Epoch [19][20]\t Batch [250][550]\t Training Loss 2.5354\t Accuracy 0.0988\n",
      "Epoch [19][20]\t Batch [300][550]\t Training Loss 2.5354\t Accuracy 0.0987\n",
      "Epoch [19][20]\t Batch [350][550]\t Training Loss 2.5354\t Accuracy 0.0981\n",
      "Epoch [19][20]\t Batch [400][550]\t Training Loss 2.5354\t Accuracy 0.0982\n",
      "Epoch [19][20]\t Batch [450][550]\t Training Loss 2.5354\t Accuracy 0.0983\n",
      "Epoch [19][20]\t Batch [500][550]\t Training Loss 2.5354\t Accuracy 0.0986\n",
      "\n",
      "Epoch [19]\t Average training loss 2.5354\t Average training accuracy 0.0988\n",
      "Epoch [19]\t Average validation loss 2.5354\t Average validation accuracy 0.0978\n",
      "\n"
     ]
    }
   ],
   "source": [
    "reluMLP, relu_loss, relu_acc = train(reluMLP, criterion, sgd, data_train, max_epoch, batch_size, disp_freq)"
   ]
  },
  {
   "cell_type": "code",
   "execution_count": null,
   "metadata": {},
   "outputs": [
    {
     "name": "stdout",
     "output_type": "stream",
     "text": [
      "Testing...\n",
      "The test accuracy is 0.0980.\n",
      "\n"
     ]
    }
   ],
   "source": [
    "test(reluMLP, criterion, data_test, batch_size, disp_freq)"
   ]
  },
  {
   "cell_type": "markdown",
   "metadata": {},
   "source": [
    "## Plot"
   ]
  },
  {
   "cell_type": "code",
   "execution_count": null,
   "metadata": {},
   "outputs": [
    {
     "data": {
      "image/png": "[encoded data removed]",
      "text/plain": [
       "<Figure size 432x288 with 1 Axes>"
      ]
     },
     "metadata": {
      "needs_background": "light"
     },
     "output_type": "display_data"
    },
    {
     "data": {
      "image/png": "[encoded data removed]",
      "text/plain": [
       "<Figure size 432x288 with 1 Axes>"
      ]
     },
     "metadata": {
      "needs_background": "light"
     },
     "output_type": "display_data"
    }
   ],
   "source": [
    "plot_loss_and_acc({'Sigmoid': [sigmoid_loss, sigmoid_acc],\n",
    "                   'relu': [relu_loss, relu_acc]})"
   ]
  },
  {
   "cell_type": "markdown",
   "metadata": {},
   "source": [
    "### ~~You have finished homework2-mlp, congratulations!~~  \n",
    "\n",
    "**Next, according to the requirements 4) of report:**\n",
    "### **You need to construct a two-hidden-layer MLP, using any activation function and loss function.**\n",
    "\n",
    "**Note: Please insert some new cells blow (using '+' bottom in the toolbar) refer to above codes. Do not modify the former code directly.**"
   ]
  }
 ],
 "metadata": {
  "kernelspec": {
   "display_name": "Python 3.8.13 ('tf_m1')",
   "language": "python",
   "name": "python3"
  },
  "language_info": {
   "codemirror_mode": {
    "name": "ipython",
    "version": 3
   },
   "file_extension": ".py",
   "mimetype": "text/x-python",
   "name": "python",
   "nbconvert_exporter": "python",
   "pygments_lexer": "ipython3",
   "version": "3.8.13"
  },
  "vscode": {
   "interpreter": {
    "hash": "899be85650f4fd9fd1c61155ad1038b3bd3ce4f173c19491b42003eb0b61918c"
   }
  }
 },
 "nbformat": 4,
 "nbformat_minor": 2
}
